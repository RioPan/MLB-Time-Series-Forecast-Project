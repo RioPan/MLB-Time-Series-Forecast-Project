{
 "cells": [
  {
   "cell_type": "code",
   "execution_count": null,
   "id": "PG0a1hMaE2Fe",
   "metadata": {
    "id": "PG0a1hMaE2Fe"
   },
   "outputs": [],
   "source": [
    "!pip install pytorch_forecasting\n",
    "!pip install pytorch_lightning\n",
    "!pip install dill"
   ]
  },
  {
   "cell_type": "code",
   "execution_count": null,
   "id": "PlpJjiP6fmao",
   "metadata": {
    "id": "PlpJjiP6fmao"
   },
   "outputs": [],
   "source": []
  },
  {
   "cell_type": "code",
   "execution_count": null,
   "id": "2ac8a35d",
   "metadata": {
    "id": "2ac8a35d"
   },
   "outputs": [],
   "source": [
    "#import the libraries\n",
    "import torch\n",
    "import random\n",
    "import matplotlib.pyplot as plt\n",
    "import pandas as pd\n",
    "import numpy as np\n",
    "import pytorch_lightning as pl\n",
    "from pytorch_lightning import loggers\n",
    "import tensorflow as tf\n",
    "import tensorboard as tb\n",
    "tf.io.gfile = tb.compat.tensorflow_stub.io.gfile\n",
    "random.seed(30)\n",
    "np.random.seed(30)\n",
    "tf.random.set_seed(30)\n",
    "torch.manual_seed(30)\n",
    "\n",
    "torch.cuda.manual_seed(30)\n",
    "from pytorch_lightning.callbacks import EarlyStopping, LearningRateMonitor\n",
    "from pytorch_forecasting import Baseline, TemporalFusionTransformer, TimeSeriesDataSet\n",
    "from pytorch_forecasting.data import NaNLabelEncoder,GroupNormalizer\n",
    "from pytorch_forecasting.data.examples import generate_ar_data\n",
    "from torchmetrics import TweedieDevianceScore\n",
    "from pytorch_forecasting.metrics import RMSE, MAPE\n",
    "from pytorch_forecasting.models.temporal_fusion_transformer.tuning import optimize_hyperparameters\n",
    "import gc\n",
    "from tqdm import tqdm\n",
    "import holidays\n",
    "DEVICE = 'cuda' if torch.cuda.is_available() else 'cpu'\n",
    "import dill as pickle"
   ]
  },
  {
   "cell_type": "code",
   "execution_count": null,
   "id": "YQVKKWHXlu2Q",
   "metadata": {
    "colab": {
     "base_uri": "https://localhost:8080/"
    },
    "id": "YQVKKWHXlu2Q",
    "outputId": "1e07f982-df05-475a-c4c5-2fec8fa84bcd"
   },
   "outputs": [
    {
     "name": "stdout",
     "output_type": "stream",
     "text": [
      "Mounted at /content/drive\n"
     ]
    }
   ],
   "source": [
    "from google.colab import drive\n",
    "drive.mount('/content/drive')"
   ]
  },
  {
   "cell_type": "code",
   "execution_count": null,
   "id": "9a66c2ce",
   "metadata": {
    "colab": {
     "base_uri": "https://localhost:8080/"
    },
    "id": "9a66c2ce",
    "outputId": "790ba8a0-9895-465c-c1f7-c524d1675abf"
   },
   "outputs": [
    {
     "name": "stderr",
     "output_type": "stream",
     "text": [
      "<ipython-input-6-79e4c5411719>:1: DtypeWarning: Columns (13,15,19,85,87,159,186,193) have mixed types. Specify dtype option on import or set low_memory=False.\n",
      "  gl= pd.read_csv(\"/content/drive/Shareddrives/MinneMUDAC/data/final_gl_Lan.csv\")\n"
     ]
    }
   ],
   "source": [
    "gl= pd.read_csv(\"/content/drive/Shareddrives/MinneMUDAC/data/final_gl_Lan.csv\")"
   ]
  },
  {
   "cell_type": "code",
   "execution_count": null,
   "id": "DuhceGcd4er4",
   "metadata": {
    "id": "DuhceGcd4er4"
   },
   "outputs": [],
   "source": []
  },
  {
   "cell_type": "code",
   "execution_count": null,
   "id": "3s0yzTEAa2Lf",
   "metadata": {
    "id": "3s0yzTEAa2Lf"
   },
   "outputs": [],
   "source": []
  },
  {
   "cell_type": "markdown",
   "id": "wCBsV_n1tuTS",
   "metadata": {
    "id": "wCBsV_n1tuTS"
   },
   "source": [
    "Temporal Fusion Transformer model is used for before the season prediction. Thus we will only choose the features that are known before the season."
   ]
  },
  {
   "cell_type": "code",
   "execution_count": null,
   "id": "JDmA72kGn3W8",
   "metadata": {
    "id": "JDmA72kGn3W8"
   },
   "outputs": [],
   "source": [
    "selected_columns = [\n",
    "    # Date & Time Info\n",
    "    'Date', 'NumberofGames', 'DayofWeek', 'year', 'month', 'week',\n",
    "    'is_weekend', 'opening_day', 'is_public_holiday', 'holidayName',\n",
    "\n",
    "    # Home Team Info\n",
    "    'HomeTeam', 'HomeTeamLeague', 'HomeTeamGameNumber', 'HomeTeam_City',\n",
    "    'HomeTeam_State', 'HomeTeam_ws_winner', 'MVP_in_hometeam',\n",
    "    'Cy_Young_in_hometeam', 'home_pitch10', 'home_bat10', 'home_field10',\n",
    "\n",
    "    # Visiting Team Info\n",
    "    'VisitingTeam', 'VisitingTeamLeague', 'VisitingTeamGameNumber', 'VisitingTeam_City',\n",
    "    'VisitingTeam_State', 'VisitingTeam_ws_winner', 'MVP_in_visitingteam',\n",
    "    'Cy_Young_in_visitingteam', 'visiting_pitch10', 'visiting_bat10', 'visiting_field10',\n",
    "\n",
    "    # Game Info\n",
    "    'BallParkID', 'Attendance', 'Capacity',\n",
    "\n",
    "    # Season Stats\n",
    "    'season_end_rank', 'season_end_w_l_ratio', 'season_end_runs_mean',\n",
    "    'season_end_runs_allowed_mean', 'opponent_season_end_rank',\n",
    "    'opponent_season_end_w_l_ratio', 'opponent_season_end_runs_mean',\n",
    "    'opponent_season_end_runs_allowed_mean',\n",
    "\n",
    "    # Other Teams & Info\n",
    "    'NBA_Team', 'NFL_Team', 'NHL_Team', 'home_as_cnt', 'visiting_as_cnt',\n",
    "    'previous_home_as_cnt', 'previous_visiting_as_cnt'\n",
    "]\n",
    "\n",
    "tran_df = gl[selected_columns]"
   ]
  },
  {
   "cell_type": "markdown",
   "id": "fYp0SXTkcjHU",
   "metadata": {
    "id": "fYp0SXTkcjHU"
   },
   "source": [
    "The next part is preparing the data for model, which includes:\n",
    "\n",
    "*   Create Home Game Number as time index\n",
    "*   Removed unwanted years due to covid\n",
    "*   Deal with missing data\n",
    "*   Convert to the appropriate column types.\n",
    "\n"
   ]
  },
  {
   "cell_type": "code",
   "execution_count": null,
   "id": "34kjpYfRq9vS",
   "metadata": {
    "id": "34kjpYfRq9vS"
   },
   "outputs": [],
   "source": [
    "# Sort values as given\n",
    "tran_df = tran_df.sort_values([\"HomeTeam\", \"Date\", \"NumberofGames\"])\n",
    "\n",
    "# Rank each row within each 'HomeTeam' group and store as integer\n",
    "tran_df[\"date_int\"] = tran_df.groupby(\"HomeTeam\").cumcount() + 1"
   ]
  },
  {
   "cell_type": "code",
   "execution_count": null,
   "id": "9Kythl5yKJfB",
   "metadata": {
    "id": "9Kythl5yKJfB"
   },
   "outputs": [],
   "source": [
    "#Removed the Tie Breaker Game which is game 163 as it does not provide more information and it mess up with the time series encoding for each team.\n",
    "tran_df=tran_df[(tran_df['HomeTeamGameNumber']!=163)]"
   ]
  },
  {
   "cell_type": "code",
   "execution_count": null,
   "id": "yKMPyM8K2-Rt",
   "metadata": {
    "id": "yKMPyM8K2-Rt"
   },
   "outputs": [],
   "source": [
    "#Removed year 2020 and 2021 due to COVID and 2023 for our prediction submission\n",
    "excluded_years = [2020, 2021, 2023]\n",
    "tran_df_2022 = tran_df[~tran_df['year'].isin(excluded_years)]\n",
    "prediction = tran_df[tran_df['year'] == 2023]"
   ]
  },
  {
   "cell_type": "code",
   "execution_count": null,
   "id": "aQs5wczjQsQY",
   "metadata": {
    "id": "aQs5wczjQsQY"
   },
   "outputs": [],
   "source": [
    "def fill_missing_values(df, reference_df):\n",
    "    # Compute mean attendance from the reference DataFrame and merge with the target DataFrame\n",
    "    mean_attendance = reference_df.groupby(\"HomeTeam\")['Attendance'].mean().reset_index().rename(columns={'Attendance':\"mean_attendance\"})\n",
    "    df = df.merge(mean_attendance, on=\"HomeTeam\", how=\"left\")\n",
    "\n",
    "    # Replace NaN or 0 values in the 'Attendance' column with the mean attendance\n",
    "    df['Attendance'] = np.where((df['Attendance'].isna()) | (df['Attendance'] == 0), df['mean_attendance'], df['Attendance'])\n",
    "\n",
    "    # Handle other NaN values based on column datatype\n",
    "    for col in df.columns:\n",
    "        if df[col].dtype in [\"int64\", \"float64\"]:\n",
    "            df[col].fillna(-1, inplace=True)\n",
    "        elif df[col].dtype == \"object\":\n",
    "            df[col].fillna(\"na\", inplace=True)\n",
    "\n",
    "    return df\n",
    "\n",
    "# Usage\n",
    "tran_df_2022 = fill_missing_values(df_to_fill, tran_df_2022)"
   ]
  },
  {
   "cell_type": "code",
   "execution_count": null,
   "id": "ezva2gocJc6q",
   "metadata": {
    "id": "ezva2gocJc6q"
   },
   "outputs": [],
   "source": [
    "# List columns by their target data type\n",
    "\n",
    "# Columns to convert to category\n",
    "category_columns = [\n",
    "    'DayofWeek', 'VisitingTeam', 'VisitingTeamLeague', 'HomeTeam', 'HomeTeamLeague',\n",
    "    'BallParkID', 'year', 'month', 'week', 'is_weekend', 'opening_day',\n",
    "    'is_public_holiday', 'holidayName', 'HomeTeam_City', 'HomeTeam_State',\n",
    "    'VisitingTeam_City', 'VisitingTeam_State', 'NBA_Team', 'NFL_Team', 'NHL_Team',\n",
    "    'HomeTeam_ws_winner', 'VisitingTeam_ws_winner', 'MVP_in_hometeam',\n",
    "    'MVP_in_visitingteam', 'Cy_Young_in_hometeam', 'Cy_Young_in_visitingteam'\n",
    "]\n",
    "\n",
    "# Columns to convert to float32\n",
    "float32_columns = ['Attendance']\n",
    "\n",
    "# Convert columns to their respective types\n",
    "for col in category_columns:\n",
    "    tran_df_2022[col] = tran_df_2022[col].astype(str).astype('category')\n",
    "\n",
    "for col in float32_columns:\n",
    "    tran_df_2022[col] = tran_df_2022[col].astype(np.float32)"
   ]
  },
  {
   "cell_type": "markdown",
   "id": "UI9_woo8mnxu",
   "metadata": {
    "id": "UI9_woo8mnxu"
   },
   "source": [
    "This next steps help us in converting our dataframe into a format that's more amenable for modeling, ensuring we capture both temporal and non-temporal patterns efficiently"
   ]
  },
  {
   "cell_type": "code",
   "execution_count": null,
   "id": "ad72a934",
   "metadata": {
    "colab": {
     "base_uri": "https://localhost:8080/"
    },
    "id": "ad72a934",
    "outputId": "c74ba424-8be1-4c5f-a81b-c5fd0cc94ef0"
   },
   "outputs": [
    {
     "name": "stderr",
     "output_type": "stream",
     "text": [
      "/usr/local/lib/python3.9/dist-packages/pytorch_forecasting/data/encoders.py:317: UserWarning: Found 2 unknown classes which were set to NaN\n",
      "  warnings.warn(\n",
      "/usr/local/lib/python3.9/dist-packages/pytorch_forecasting/data/encoders.py:317: UserWarning: Found 2 unknown classes which were set to NaN\n",
      "  warnings.warn(\n"
     ]
    }
   ],
   "source": [
    "# Splitting the dataframe into training and test sets based on year.\n",
    "train = tran_df_2022[pd.to_datetime(tran_df_2022['Date']).dt.year < 2022]\n",
    "test = tran_df_2022[pd.to_datetime(tran_df_2022['Date']).dt.year == 2022]\n",
    "\n",
    "# Defining the length of the encoder (historical data) and prediction (future data).\n",
    "max_prediction_length = 81\n",
    "max_encoder_length = 500\n",
    "\n",
    "# Construct a TimeSeriesDataSet for training.\n",
    "training = TimeSeriesDataSet(\n",
    "    train,  # The training dataframe\n",
    "    time_idx=\"date_int\",  # Index to order the time series\n",
    "    target=\"Attendance\",  # Target variable to predict\n",
    "    group_ids=[\"HomeTeam\"],  # Categories to treat as separate series\n",
    "\n",
    "    # Defining the length of the encoder and prediction windows.\n",
    "    min_encoder_length=max_prediction_length // 2,\n",
    "    max_encoder_length=max_encoder_length,\n",
    "    min_prediction_length=1,\n",
    "    max_prediction_length=max_prediction_length,\n",
    "\n",
    "    # Static categorical variables\n",
    "    static_categoricals=[\"HomeTeam\", \"HomeTeamLeague\", \"HomeTeam_City\", \"HomeTeam_State\"],\n",
    "\n",
    "    # Time-varying categorical variables that are known in advance\n",
    "    time_varying_known_categoricals=[\n",
    "        'DayofWeek', 'year', 'VisitingTeam', 'VisitingTeamLeague', 'month', 'week', 'is_weekend',\n",
    "        'opening_day', 'is_public_holiday', 'HomeTeam_ws_winner', 'VisitingTeam_ws_winner',\n",
    "        'MVP_in_visitingteam', 'MVP_in_hometeam', 'Cy_Young_in_visitingteam', 'Cy_Young_in_hometeam'\n",
    "    ],\n",
    "\n",
    "    # Static real (continuous) variables\n",
    "    static_reals=['Capacity'],\n",
    "\n",
    "    # Time-varying continuous variables that are known in advance\n",
    "    time_varying_known_reals=[\n",
    "        \"home_pitch10\", \"home_bat10\", \"home_field10\", \"visiting_pitch10\", \"visiting_bat10\", \n",
    "        \"visiting_field10\", 'HomeTeam_ws_winner', 'VisitingTeam_ws_winner', 'Capacity', \n",
    "        'season_end_rank', 'season_end_w_l_ratio', 'season_end_runs_mean', 'season_end_runs_allowed_mean',\n",
    "        'opponent_season_end_rank', 'opponent_season_end_w_l_ratio', 'opponent_season_end_runs_mean',\n",
    "        'opponent_season_end_runs_allowed_mean', \"VisitingTeamGameNumber\", \"HomeTeamGameNumber\"\n",
    "    ],\n",
    "\n",
    "    # Time-varying continuous variables that are unknown in advance (to be predicted)\n",
    "    time_varying_unknown_reals=['Attendance'],\n",
    "\n",
    "    # Normalize the target variable using the softplus function and grouped by HomeTeam.\n",
    "    target_normalizer=GroupNormalizer(groups=[\"HomeTeam\"], transformation=\"softplus\"),\n",
    "\n",
    "    # Add lags of the target variable to use as features.\n",
    "    lags={'Attendance': [1, 3, 5, 7, 14]},\n",
    "\n",
    "    # Additional configurations.\n",
    "    add_encoder_length=True,\n",
    "    add_relative_time_idx=True,\n",
    "    add_target_scales=True,\n",
    "    allow_missing_timesteps=True,\n",
    "\n",
    "    # Encoders for handling NaN values in certain categorical columns.\n",
    "    categorical_encoders={\n",
    "        \"HomeTeam_ws_winner\": NaNLabelEncoder(add_nan=True),\n",
    "        \"VisitingTeam_ws_winner\": NaNLabelEncoder(add_nan=True),\n",
    "        'year': NaNLabelEncoder(add_nan=True)\n",
    "    }\n",
    ")\n",
    "\n",
    "# Create a validation set from the training data by predicting the last max_prediction_length data points.\n",
    "validation = TimeSeriesDataSet.from_dataset(training, train, predict=True, stop_randomization=True)\n",
    "\n",
    "# Convert datasets into PyTorch dataloaders.\n",
    "batch_size = 128\n",
    "train_dataloader = training.to_dataloader(train=True, batch_size=batch_size, num_workers=0)\n",
    "val_dataloader = validation.to_dataloader(train=False, batch_size=batch_size * 10, num_workers=0)"
   ]
  },
  {
   "cell_type": "markdown",
   "id": "CDewNOavm4kD",
   "metadata": {
    "id": "CDewNOavm4kD"
   },
   "source": [
    "### Use the built-in function to train the hyperparameters"
   ]
  },
  {
   "cell_type": "code",
   "execution_count": null,
   "id": "mBup4fxmvO-6",
   "metadata": {
    "colab": {
     "base_uri": "https://localhost:8080/"
    },
    "id": "mBup4fxmvO-6",
    "outputId": "465013e6-3853-4003-d0b8-8769d202dac6"
   },
   "outputs": [],
   "source": [
    "# import pickle\n",
    "\n",
    "# from pytorch_forecasting.models.temporal_fusion_transformer.tuning import optimize_hyperparameters\n",
    "\n",
    "# # create study\n",
    "# study = optimize_hyperparameters(\n",
    "#     train_dataloader,\n",
    "#     val_dataloader,\n",
    "#     model_path=\"optuna_test\",\n",
    "#     n_trials=200,\n",
    "#     max_epochs=50,\n",
    "#     gradient_clip_val_range=(0.01, 1.0),\n",
    "#     hidden_size_range=(8, 128),\n",
    "#     hidden_continuous_size_range=(8, 128),\n",
    "#     attention_head_size_range=(1, 4),\n",
    "#     learning_rate_range=(0.001, 0.1),\n",
    "#     dropout_range=(0.1, 0.3),\n",
    "#     trainer_kwargs=dict(limit_train_batches=30),\n",
    "#     reduce_on_plateau_patience=4,\n",
    "#     use_learning_rate_finder=False,  # use Optuna to find ideal learning rate or use in-built learning rate finder\n",
    "# )\n",
    "\n",
    "# # save study results - also we can resume tuning at a later point in time\n",
    "# with open(\"test_study.pkl\", \"wb\") as fout:\n",
    "#     pickle.dump(study, fout)\n",
    "\n",
    "# # show best hyperparameters\n",
    "# print(study.best_trial.params)"
   ]
  },
  {
   "cell_type": "code",
   "execution_count": null,
   "id": "Nn1rMFKqA2Pr",
   "metadata": {
    "id": "Nn1rMFKqA2Pr"
   },
   "outputs": [],
   "source": []
  },
  {
   "cell_type": "markdown",
   "id": "MIqJ3lpPBEbz",
   "metadata": {
    "id": "MIqJ3lpPBEbz"
   },
   "source": [
    "Trial 0 finished with value: 981.5067749023438 and parameters: {'gradient_clip_val': 0.47392885281873304, 'hidden_size': 17, 'dropout': 0.12057343228729256, 'hidden_continuous_size': 16, 'attention_head_size': 3, 'learning_rate': 0.012067986205675296}."
   ]
  },
  {
   "cell_type": "code",
   "execution_count": null,
   "id": "5799247f",
   "metadata": {
    "colab": {
     "base_uri": "https://localhost:8080/"
    },
    "id": "5799247f",
    "outputId": "c7ae099e-1a9e-4465-da72-45d8e9445785"
   },
   "outputs": [
    {
     "name": "stderr",
     "output_type": "stream",
     "text": [
      "/usr/local/lib/python3.9/dist-packages/pytorch_lightning/trainer/connectors/accelerator_connector.py:478: LightningDeprecationWarning: Setting `Trainer(gpus=1)` is deprecated in v1.7 and will be removed in v2.0. Please use `Trainer(accelerator='gpu', devices=1)` instead.\n",
      "  rank_zero_deprecation(\n",
      "INFO:pytorch_lightning.utilities.rank_zero:GPU available: True (cuda), used: True\n",
      "INFO:pytorch_lightning.utilities.rank_zero:TPU available: False, using: 0 TPU cores\n",
      "INFO:pytorch_lightning.utilities.rank_zero:IPU available: False, using: 0 IPUs\n",
      "INFO:pytorch_lightning.utilities.rank_zero:HPU available: False, using: 0 HPUs\n"
     ]
    },
    {
     "name": "stdout",
     "output_type": "stream",
     "text": [
      "Number of parameters in network: 99.6k\n"
     ]
    }
   ],
   "source": [
    "from pytorch_lightning.loggers import TensorBoardLogger\n",
    "\n",
    "# Define hyperparameters and configurations\n",
    "PATIENCE = 30\n",
    "MAX_EPOCHS = 200\n",
    "LEARNING_RATE = 0.012067986205675296\n",
    "OPTUNA = False  \n",
    "# Define an early stopping callback to stop training if \"train_loss\" does not improve by at least 0.001 for 30 consecutive epochs.\n",
    "early_stop_callback = EarlyStopping(monitor=\"train_loss\", min_delta=0.001, patience=PATIENCE, verbose=False, mode=\"min\")\n",
    "\n",
    "# Callback to log the learning rate during training.\n",
    "lr_logger = LearningRateMonitor()\n",
    "\n",
    "# Define a TensorBoard logger to log results to TensorBoard.\n",
    "logger = TensorBoardLogger(\"lightning_logs\")\n",
    "\n",
    "# Create a PyTorch Lightning Trainer instance with various configurations and callbacks.\n",
    "trainer = pl.Trainer(\n",
    "    max_epochs=MAX_EPOCHS,\n",
    "    gpus=1,  # Use 1 GPU for training\n",
    "    enable_model_summary=True,  # Display model summary\n",
    "    gradient_clip_val=0.47392885281873304,  # Gradient clipping value\n",
    "    limit_train_batches=10,  # Limit the number of training batches\n",
    "    callbacks=[lr_logger, early_stop_callback],  # Add defined callbacks\n",
    "    logger=logger,  # Use the defined TensorBoard logger\n",
    ")\n",
    "\n",
    "# Initialize the Temporal Fusion Transformer model using dataset-specific settings.\n",
    "tft = TemporalFusionTransformer.from_dataset(\n",
    "    training,  # Training dataset\n",
    "    learning_rate=LEARNING_RATE,\n",
    "    lstm_layers=2,\n",
    "    hidden_size=17,\n",
    "    attention_head_size=3,\n",
    "    dropout=0.12057343228729256,\n",
    "    hidden_continuous_size=16,\n",
    "    output_size=1,  # Only 1 output size\n",
    "    loss=MAPE(),  # Use Mean Absolute Percentage Error as the loss function\n",
    "    log_interval=10,\n",
    "    reduce_on_plateau_patience=4\n",
    ")\n",
    "\n",
    "# Move the model to the desired device  'cuda'\n",
    "tft.to(DEVICE)\n",
    "\n",
    "# Print the number of parameters in the model.\n",
    "print(f\"Number of parameters in network: {tft.size()/1e3:.1f}k\")\n"
   ]
  },
  {
   "cell_type": "code",
   "execution_count": null,
   "id": "2dec3614",
   "metadata": {
    "id": "2dec3614"
   },
   "outputs": [],
   "source": [
    "trainer.fit(\n",
    "    tft,\n",
    "    train_dataloaders=train_dataloader,\n",
    "    val_dataloaders=val_dataloader,\n",
    ")\n",
    "\n",
    "# load the best model according to the validation loss\n",
    "# (given that we use early stopping, this is not necessarily the last epoch)\n",
    "best_model_path = trainer.checkpoint_callback.best_model_path\n",
    "best_tft = TemporalFusionTransformer.load_from_checkpoint(best_model_path)\n",
    "\n",
    "model_path = '/content/drive/Shareddrives/MinneMUDAC/Model/tft/tft_model_2022.bin'\n",
    "pickle.dump(best_tft, open(model_path, 'wb'))"
   ]
  },
  {
   "cell_type": "code",
   "execution_count": null,
   "id": "o5cosxVdaunI",
   "metadata": {
    "colab": {
     "base_uri": "https://localhost:8080/"
    },
    "id": "o5cosxVdaunI",
    "outputId": "0e2c9bf1-6cae-4570-ba2a-5a2f207e878e"
   },
   "outputs": [
    {
     "name": "stdout",
     "output_type": "stream",
     "text": [
      "MAPE: tensor(0.0729)\n",
      "RMSE: tensor(3021.1316)\n"
     ]
    }
   ],
   "source": [
    "# Set the path to the saved model on the shared drive\n",
    "model_path = '/content/drive/Shareddrives/MinneMUDAC/Model/tft/tft_model_2022.bin'\n",
    "\n",
    "# Load the best TFT model using pickle from the given path\n",
    "best_tft = pickle.load(open(model_path, 'rb'))\n",
    "\n",
    "# Concatenate the actual values (targets) from the validation dataloader\n",
    "actuals = torch.cat([y[0] for x, y in iter(val_dataloader)])\n",
    "\n",
    "# Predict the values using the loaded TFT model on the validation dataloader\n",
    "predictions = best_tft.predict(val_dataloader)\n",
    "print( 'MAPE:',(np.abs(actuals - predictions)/actuals).mean())\n",
    "print( 'RMSE:',np.sqrt(((actuals - predictions)**2).mean()))"
   ]
  },
  {
   "cell_type": "code",
   "execution_count": null,
   "id": "ctjdhVSXbFQy",
   "metadata": {
    "id": "ctjdhVSXbFQy"
   },
   "outputs": [],
   "source": [
    "# raw predictions are a dictionary from which all kind of information including quantiles can be extracted\n",
    "raw_predictions, x = best_tft.predict(val_dataloader, mode=\"raw\", return_x=True)\n",
    "for idx in range(10):  # plot 10 examples\n",
    "    best_tft.plot_prediction(x, raw_predictions, idx=idx, add_loss_to_title=True);"
   ]
  },
  {
   "cell_type": "code",
   "execution_count": null,
   "id": "cfw1cHoHa9Bs",
   "metadata": {
    "id": "cfw1cHoHa9Bs"
   },
   "outputs": [],
   "source": [
    "# Interpret the model's output using the interpret_output method. \n",
    "# The 'reduction' argument is set to \"sum\", which aggregates the interpretation results by summing them across samples or features.\n",
    "interpretation = best_tft.interpret_output(raw_predictions, reduction=\"sum\")\n",
    "best_tft.plot_interpretation(interpretation)"
   ]
  },
  {
   "cell_type": "code",
   "execution_count": null,
   "id": "EGY4CgfWbHLU",
   "metadata": {
    "id": "EGY4CgfWbHLU"
   },
   "outputs": [],
   "source": [
    "model_path = '/content/drive/Shareddrives/MinneMUDAC/Model/tft/tft_model_2022.bin'\n",
    "best_tft=pickle.load(open(model_path, 'rb'))\n",
    "# prepare last_data for prediction\n"
   ]
  },
  {
   "cell_type": "code",
   "execution_count": null,
   "id": "36vaBvefdA1E",
   "metadata": {
    "id": "36vaBvefdA1E"
   },
   "outputs": [],
   "source": [
    "def testing_MAPE(tft):\n",
    "  # max_date = train.groupby(\"HomeTeam\")[\"date_int\"].max().reset_index()\n",
    "  # last_data = max_date.merge(train, on = [\"HomeTeam\",\"date_int\"], how = \"left\")\n",
    "\n",
    "# select last 500 from data (max_encoder_length is 500)\n",
    "  encoder_data = train.groupby('HomeTeam').tail(500)\n",
    "\n",
    "  decoder_data = test\n",
    "# combine encoder and decoder data\n",
    "  new_prediction_data = pd.concat([encoder_data, decoder_data], ignore_index=True)\n",
    "\n",
    "  # raw return point estimate\n",
    "  # 'quantiles: [0.02, 0.1, 0.25, 0.5, 0.75, 0.9, 0.98]'\n",
    "  new_raw_predictions, new_x = tft.predict(new_prediction_data, mode=\"raw\", return_x=True)\n",
    "  pred=new_raw_predictions[0].numpy().reshape(2430,)\n",
    "  pred=np.delete(pred,180)\n",
    "  actual=test['Attendance'].array\n",
    "\n",
    "  return (np.abs(actual - pred)/actual).mean()"
   ]
  },
  {
   "cell_type": "code",
   "execution_count": null,
   "id": "L04OunWXg53N",
   "metadata": {
    "colab": {
     "base_uri": "https://localhost:8080/"
    },
    "id": "L04OunWXg53N",
    "outputId": "ef8d0713-ddf4-4491-d4d3-23979bec3bf1"
   },
   "outputs": [
    {
     "name": "stderr",
     "output_type": "stream",
     "text": [
      "/usr/local/lib/python3.9/dist-packages/pytorch_forecasting/data/encoders.py:317: UserWarning: Found 1 unknown classes which were set to NaN\n",
      "  warnings.warn(\n",
      "/usr/local/lib/python3.9/dist-packages/pytorch_forecasting/data/encoders.py:317: UserWarning: Found 2 unknown classes which were set to NaN\n",
      "  warnings.warn(\n"
     ]
    },
    {
     "data": {
      "text/plain": [
       "0.17994474"
      ]
     },
     "execution_count": 52,
     "metadata": {},
     "output_type": "execute_result"
    }
   ],
   "source": [
    "testing_MAPE(best_tft)"
   ]
  },
  {
   "cell_type": "markdown",
   "id": "6b98c8ab",
   "metadata": {},
   "source": [
    "### Prepare the prediction of 2023 seasons for submission"
   ]
  },
  {
   "cell_type": "code",
   "execution_count": null,
   "id": "ZlmmOZPBI9Y9",
   "metadata": {
    "colab": {
     "base_uri": "https://localhost:8080/"
    },
    "id": "ZlmmOZPBI9Y9",
    "outputId": "2376b190-f731-41b6-8638-3cbcce5e3dfd"
   },
   "outputs": [
    {
     "name": "stderr",
     "output_type": "stream",
     "text": [
      "/usr/local/lib/python3.9/dist-packages/pytorch_forecasting/data/encoders.py:317: UserWarning: Found 1 unknown classes which were set to NaN\n",
      "  warnings.warn(\n",
      "/usr/local/lib/python3.9/dist-packages/pytorch_forecasting/data/encoders.py:317: UserWarning: Found 2 unknown classes which were set to NaN\n",
      "  warnings.warn(\n"
     ]
    }
   ],
   "source": [
    "#Choose the last 500 games as encoder \n",
    "encoder_data = train.groupby('HomeTeam').tail(500)\n",
    "\n",
    "decoder_data = prediction\n",
    "\n",
    "# combine encoder and decoder data\n",
    "new_prediction_data = pd.concat([encoder_data, decoder_data], ignore_index=True)\n",
    "\n",
    "# raw return point estimate\n",
    "# 'quantiles: [0.02, 0.1, 0.25, 0.5, 0.75, 0.9, 0.98]'\n",
    "new_raw_predictions, new_x = best_tft.predict(new_prediction_data, mode=\"raw\", return_x=True)\n",
    "\n",
    "#reshape it to 1 dimension\n",
    "pred=new_raw_predictions[0].numpy().reshape(2430,)"
   ]
  },
  {
   "cell_type": "code",
   "execution_count": null,
   "id": "78tLBdJ1gGul",
   "metadata": {
    "id": "78tLBdJ1gGul"
   },
   "outputs": [],
   "source": [
    "# Assigning predicted attendance values to the 'predicted_attendance' column in the 'prediction' DataFrame\n",
    "prediction['predicted_attendance'] = pred\n",
    "\n",
    "# Reading the MLB schedule CSV file into the 'schedule' DataFrame\n",
    "schedule = pd.read_csv(\"/content/drive/Shareddrives/MinneMUDAC/data/2023_MLBSchedule.csv\")\n",
    "\n",
    "# Sorting the 'schedule' DataFrame based on 'home_team', 'game_date', and 'game_time'\n",
    "predicted = schedule.sort_values([\"home_team\", \"game_date\", \"game_time\"])\n",
    "\n",
    "# Assigning the 'predicted_attendance' values from the 'prediction' DataFrame to the sorted 'predicted' DataFrame\n",
    "predicted['predicted_attendance'] = prediction['predicted_attendance'].array\n",
    "\n",
    "# Adding a new column 'minnemudac_teamid' to the 'schedule' DataFrame and setting its value to 'G07' for all rows\n",
    "schedule['minnemudac_teamid'] = \"G07\"\n",
    "\n"
   ]
  },
  {
   "cell_type": "code",
   "execution_count": null,
   "id": "ymG3WsfDi35O",
   "metadata": {
    "colab": {
     "base_uri": "https://localhost:8080/",
     "height": 424
    },
    "id": "ymG3WsfDi35O",
    "outputId": "15bf3ea6-f616-47b5-87e9-60d226e4d676"
   },
   "outputs": [
    {
     "data": {
      "text/html": [
       "\n",
       "  <div id=\"df-70ce896f-239d-4902-9d9c-718bce46c55b\">\n",
       "    <div class=\"colab-df-container\">\n",
       "      <div>\n",
       "<style scoped>\n",
       "    .dataframe tbody tr th:only-of-type {\n",
       "        vertical-align: middle;\n",
       "    }\n",
       "\n",
       "    .dataframe tbody tr th {\n",
       "        vertical-align: top;\n",
       "    }\n",
       "\n",
       "    .dataframe thead th {\n",
       "        text-align: right;\n",
       "    }\n",
       "</style>\n",
       "<table border=\"1\" class=\"dataframe\">\n",
       "  <thead>\n",
       "    <tr style=\"text-align: right;\">\n",
       "      <th></th>\n",
       "      <th>game_date</th>\n",
       "      <th>game_time</th>\n",
       "      <th>stadium_name</th>\n",
       "      <th>home_team</th>\n",
       "      <th>away_team</th>\n",
       "      <th>predicted_attendance</th>\n",
       "    </tr>\n",
       "  </thead>\n",
       "  <tbody>\n",
       "    <tr>\n",
       "      <th>106</th>\n",
       "      <td>20230407</td>\n",
       "      <td>18:38:00</td>\n",
       "      <td>Angel Stadium</td>\n",
       "      <td>ANA</td>\n",
       "      <td>TOR</td>\n",
       "      <td>35127.917969</td>\n",
       "    </tr>\n",
       "    <tr>\n",
       "      <th>120</th>\n",
       "      <td>20230408</td>\n",
       "      <td>18:07:00</td>\n",
       "      <td>Angel Stadium</td>\n",
       "      <td>ANA</td>\n",
       "      <td>TOR</td>\n",
       "      <td>35733.191406</td>\n",
       "    </tr>\n",
       "    <tr>\n",
       "      <th>129</th>\n",
       "      <td>20230409</td>\n",
       "      <td>13:07:00</td>\n",
       "      <td>Angel Stadium</td>\n",
       "      <td>ANA</td>\n",
       "      <td>TOR</td>\n",
       "      <td>33069.238281</td>\n",
       "    </tr>\n",
       "    <tr>\n",
       "      <th>146</th>\n",
       "      <td>20230410</td>\n",
       "      <td>18:38:00</td>\n",
       "      <td>Angel Stadium</td>\n",
       "      <td>ANA</td>\n",
       "      <td>WAS</td>\n",
       "      <td>24217.949219</td>\n",
       "    </tr>\n",
       "    <tr>\n",
       "      <th>159</th>\n",
       "      <td>20230411</td>\n",
       "      <td>18:38:00</td>\n",
       "      <td>Angel Stadium</td>\n",
       "      <td>ANA</td>\n",
       "      <td>WAS</td>\n",
       "      <td>23909.673828</td>\n",
       "    </tr>\n",
       "    <tr>\n",
       "      <th>...</th>\n",
       "      <td>...</td>\n",
       "      <td>...</td>\n",
       "      <td>...</td>\n",
       "      <td>...</td>\n",
       "      <td>...</td>\n",
       "      <td>...</td>\n",
       "    </tr>\n",
       "    <tr>\n",
       "      <th>2276</th>\n",
       "      <td>20230920</td>\n",
       "      <td>13:05:00</td>\n",
       "      <td>Nationals Park</td>\n",
       "      <td>WAS</td>\n",
       "      <td>CHA</td>\n",
       "      <td>14314.535156</td>\n",
       "    </tr>\n",
       "    <tr>\n",
       "      <th>2292</th>\n",
       "      <td>20230921</td>\n",
       "      <td>19:05:00</td>\n",
       "      <td>Nationals Park</td>\n",
       "      <td>WAS</td>\n",
       "      <td>ATL</td>\n",
       "      <td>15778.401367</td>\n",
       "    </tr>\n",
       "    <tr>\n",
       "      <th>2304</th>\n",
       "      <td>20230922</td>\n",
       "      <td>19:05:00</td>\n",
       "      <td>Nationals Park</td>\n",
       "      <td>WAS</td>\n",
       "      <td>ATL</td>\n",
       "      <td>16835.603516</td>\n",
       "    </tr>\n",
       "    <tr>\n",
       "      <th>2311</th>\n",
       "      <td>20230923</td>\n",
       "      <td>13:05:00</td>\n",
       "      <td>Nationals Park</td>\n",
       "      <td>WAS</td>\n",
       "      <td>ATL</td>\n",
       "      <td>21721.699219</td>\n",
       "    </tr>\n",
       "    <tr>\n",
       "      <th>2336</th>\n",
       "      <td>20230924</td>\n",
       "      <td>13:35:00</td>\n",
       "      <td>Nationals Park</td>\n",
       "      <td>WAS</td>\n",
       "      <td>ATL</td>\n",
       "      <td>24461.542969</td>\n",
       "    </tr>\n",
       "  </tbody>\n",
       "</table>\n",
       "<p>2430 rows × 6 columns</p>\n",
       "</div>\n",
       "      <button class=\"colab-df-convert\" onclick=\"convertToInteractive('df-70ce896f-239d-4902-9d9c-718bce46c55b')\"\n",
       "              title=\"Convert this dataframe to an interactive table.\"\n",
       "              style=\"display:none;\">\n",
       "        \n",
       "  <svg xmlns=\"http://www.w3.org/2000/svg\" height=\"24px\"viewBox=\"0 0 24 24\"\n",
       "       width=\"24px\">\n",
       "    <path d=\"M0 0h24v24H0V0z\" fill=\"none\"/>\n",
       "    <path d=\"M18.56 5.44l.94 2.06.94-2.06 2.06-.94-2.06-.94-.94-2.06-.94 2.06-2.06.94zm-11 1L8.5 8.5l.94-2.06 2.06-.94-2.06-.94L8.5 2.5l-.94 2.06-2.06.94zm10 10l.94 2.06.94-2.06 2.06-.94-2.06-.94-.94-2.06-.94 2.06-2.06.94z\"/><path d=\"M17.41 7.96l-1.37-1.37c-.4-.4-.92-.59-1.43-.59-.52 0-1.04.2-1.43.59L10.3 9.45l-7.72 7.72c-.78.78-.78 2.05 0 2.83L4 21.41c.39.39.9.59 1.41.59.51 0 1.02-.2 1.41-.59l7.78-7.78 2.81-2.81c.8-.78.8-2.07 0-2.86zM5.41 20L4 18.59l7.72-7.72 1.47 1.35L5.41 20z\"/>\n",
       "  </svg>\n",
       "      </button>\n",
       "      \n",
       "  <style>\n",
       "    .colab-df-container {\n",
       "      display:flex;\n",
       "      flex-wrap:wrap;\n",
       "      gap: 12px;\n",
       "    }\n",
       "\n",
       "    .colab-df-convert {\n",
       "      background-color: #E8F0FE;\n",
       "      border: none;\n",
       "      border-radius: 50%;\n",
       "      cursor: pointer;\n",
       "      display: none;\n",
       "      fill: #1967D2;\n",
       "      height: 32px;\n",
       "      padding: 0 0 0 0;\n",
       "      width: 32px;\n",
       "    }\n",
       "\n",
       "    .colab-df-convert:hover {\n",
       "      background-color: #E2EBFA;\n",
       "      box-shadow: 0px 1px 2px rgba(60, 64, 67, 0.3), 0px 1px 3px 1px rgba(60, 64, 67, 0.15);\n",
       "      fill: #174EA6;\n",
       "    }\n",
       "\n",
       "    [theme=dark] .colab-df-convert {\n",
       "      background-color: #3B4455;\n",
       "      fill: #D2E3FC;\n",
       "    }\n",
       "\n",
       "    [theme=dark] .colab-df-convert:hover {\n",
       "      background-color: #434B5C;\n",
       "      box-shadow: 0px 1px 3px 1px rgba(0, 0, 0, 0.15);\n",
       "      filter: drop-shadow(0px 1px 2px rgba(0, 0, 0, 0.3));\n",
       "      fill: #FFFFFF;\n",
       "    }\n",
       "  </style>\n",
       "\n",
       "      <script>\n",
       "        const buttonEl =\n",
       "          document.querySelector('#df-70ce896f-239d-4902-9d9c-718bce46c55b button.colab-df-convert');\n",
       "        buttonEl.style.display =\n",
       "          google.colab.kernel.accessAllowed ? 'block' : 'none';\n",
       "\n",
       "        async function convertToInteractive(key) {\n",
       "          const element = document.querySelector('#df-70ce896f-239d-4902-9d9c-718bce46c55b');\n",
       "          const dataTable =\n",
       "            await google.colab.kernel.invokeFunction('convertToInteractive',\n",
       "                                                     [key], {});\n",
       "          if (!dataTable) return;\n",
       "\n",
       "          const docLinkHtml = 'Like what you see? Visit the ' +\n",
       "            '<a target=\"_blank\" href=https://colab.research.google.com/notebooks/data_table.ipynb>data table notebook</a>'\n",
       "            + ' to learn more about interactive tables.';\n",
       "          element.innerHTML = '';\n",
       "          dataTable['output_type'] = 'display_data';\n",
       "          await google.colab.output.renderOutput(dataTable, element);\n",
       "          const docLink = document.createElement('div');\n",
       "          docLink.innerHTML = docLinkHtml;\n",
       "          element.appendChild(docLink);\n",
       "        }\n",
       "      </script>\n",
       "    </div>\n",
       "  </div>\n",
       "  "
      ],
      "text/plain": [
       "      game_date game_time    stadium_name home_team away_team  \\\n",
       "106    20230407  18:38:00   Angel Stadium       ANA       TOR   \n",
       "120    20230408  18:07:00   Angel Stadium       ANA       TOR   \n",
       "129    20230409  13:07:00   Angel Stadium       ANA       TOR   \n",
       "146    20230410  18:38:00   Angel Stadium       ANA       WAS   \n",
       "159    20230411  18:38:00   Angel Stadium       ANA       WAS   \n",
       "...         ...       ...             ...       ...       ...   \n",
       "2276   20230920  13:05:00  Nationals Park       WAS       CHA   \n",
       "2292   20230921  19:05:00  Nationals Park       WAS       ATL   \n",
       "2304   20230922  19:05:00  Nationals Park       WAS       ATL   \n",
       "2311   20230923  13:05:00  Nationals Park       WAS       ATL   \n",
       "2336   20230924  13:35:00  Nationals Park       WAS       ATL   \n",
       "\n",
       "      predicted_attendance  \n",
       "106           35127.917969  \n",
       "120           35733.191406  \n",
       "129           33069.238281  \n",
       "146           24217.949219  \n",
       "159           23909.673828  \n",
       "...                    ...  \n",
       "2276          14314.535156  \n",
       "2292          15778.401367  \n",
       "2304          16835.603516  \n",
       "2311          21721.699219  \n",
       "2336          24461.542969  \n",
       "\n",
       "[2430 rows x 6 columns]"
      ]
     },
     "execution_count": 300,
     "metadata": {},
     "output_type": "execute_result"
    }
   ],
   "source": [
    "predicted"
   ]
  },
  {
   "cell_type": "code",
   "execution_count": null,
   "id": "OEotZ9IXhzEB",
   "metadata": {
    "id": "OEotZ9IXhzEB"
   },
   "outputs": [],
   "source": [
    "schedule=schedule.merge(predicted,on=[\"game_date\",\"game_time\",\"home_team\",\"away_team\",\"stadium_name\"])"
   ]
  },
  {
   "cell_type": "code",
   "execution_count": null,
   "id": "Fycm-oblhGvr",
   "metadata": {
    "colab": {
     "base_uri": "https://localhost:8080/",
     "height": 485
    },
    "id": "Fycm-oblhGvr",
    "outputId": "5b89dc48-4456-478a-dc09-d6e056c1db52"
   },
   "outputs": [
    {
     "data": {
      "text/html": [
       "\n",
       "  <div id=\"df-a9694840-e60c-46de-b58c-d584c1d6238c\">\n",
       "    <div class=\"colab-df-container\">\n",
       "      <div>\n",
       "<style scoped>\n",
       "    .dataframe tbody tr th:only-of-type {\n",
       "        vertical-align: middle;\n",
       "    }\n",
       "\n",
       "    .dataframe tbody tr th {\n",
       "        vertical-align: top;\n",
       "    }\n",
       "\n",
       "    .dataframe thead th {\n",
       "        text-align: right;\n",
       "    }\n",
       "</style>\n",
       "<table border=\"1\" class=\"dataframe\">\n",
       "  <thead>\n",
       "    <tr style=\"text-align: right;\">\n",
       "      <th></th>\n",
       "      <th>game_date</th>\n",
       "      <th>game_time</th>\n",
       "      <th>stadium_name</th>\n",
       "      <th>home_team</th>\n",
       "      <th>away_team</th>\n",
       "      <th>minnemudac_teamid</th>\n",
       "      <th>predicted_attendance</th>\n",
       "    </tr>\n",
       "  </thead>\n",
       "  <tbody>\n",
       "    <tr>\n",
       "      <th>0</th>\n",
       "      <td>20230330</td>\n",
       "      <td>13:05:00</td>\n",
       "      <td>Yankee Stadium</td>\n",
       "      <td>NYA</td>\n",
       "      <td>SFN</td>\n",
       "      <td>G07</td>\n",
       "      <td>52221.074219</td>\n",
       "    </tr>\n",
       "    <tr>\n",
       "      <th>1</th>\n",
       "      <td>20230330</td>\n",
       "      <td>13:05:00</td>\n",
       "      <td>Nationals Park</td>\n",
       "      <td>WAS</td>\n",
       "      <td>ATL</td>\n",
       "      <td>G07</td>\n",
       "      <td>30136.009766</td>\n",
       "    </tr>\n",
       "    <tr>\n",
       "      <th>2</th>\n",
       "      <td>20230330</td>\n",
       "      <td>13:10:00</td>\n",
       "      <td>Petco Park</td>\n",
       "      <td>SDN</td>\n",
       "      <td>COL</td>\n",
       "      <td>G07</td>\n",
       "      <td>45646.238281</td>\n",
       "    </tr>\n",
       "    <tr>\n",
       "      <th>3</th>\n",
       "      <td>20230330</td>\n",
       "      <td>13:20:00</td>\n",
       "      <td>Wrigley Field</td>\n",
       "      <td>CHN</td>\n",
       "      <td>MIL</td>\n",
       "      <td>G07</td>\n",
       "      <td>40740.242188</td>\n",
       "    </tr>\n",
       "    <tr>\n",
       "      <th>4</th>\n",
       "      <td>20230330</td>\n",
       "      <td>14:10:00</td>\n",
       "      <td>Fenway Park</td>\n",
       "      <td>BOS</td>\n",
       "      <td>BAL</td>\n",
       "      <td>G07</td>\n",
       "      <td>37244.484375</td>\n",
       "    </tr>\n",
       "    <tr>\n",
       "      <th>...</th>\n",
       "      <td>...</td>\n",
       "      <td>...</td>\n",
       "      <td>...</td>\n",
       "      <td>...</td>\n",
       "      <td>...</td>\n",
       "      <td>...</td>\n",
       "      <td>...</td>\n",
       "    </tr>\n",
       "    <tr>\n",
       "      <th>2425</th>\n",
       "      <td>20231001</td>\n",
       "      <td>15:05:00</td>\n",
       "      <td>Oriole Park at Camden Yards</td>\n",
       "      <td>BAL</td>\n",
       "      <td>BOS</td>\n",
       "      <td>G07</td>\n",
       "      <td>33817.375000</td>\n",
       "    </tr>\n",
       "    <tr>\n",
       "      <th>2426</th>\n",
       "      <td>20231001</td>\n",
       "      <td>15:05:00</td>\n",
       "      <td>PNC Park</td>\n",
       "      <td>PIT</td>\n",
       "      <td>MIA</td>\n",
       "      <td>G07</td>\n",
       "      <td>14694.962891</td>\n",
       "    </tr>\n",
       "    <tr>\n",
       "      <th>2427</th>\n",
       "      <td>20231001</td>\n",
       "      <td>15:07:00</td>\n",
       "      <td>Rogers Centre</td>\n",
       "      <td>TOR</td>\n",
       "      <td>TBA</td>\n",
       "      <td>G07</td>\n",
       "      <td>32803.917969</td>\n",
       "    </tr>\n",
       "    <tr>\n",
       "      <th>2428</th>\n",
       "      <td>20231001</td>\n",
       "      <td>15:10:00</td>\n",
       "      <td>Citi Field</td>\n",
       "      <td>NYN</td>\n",
       "      <td>PHI</td>\n",
       "      <td>G07</td>\n",
       "      <td>44951.597656</td>\n",
       "    </tr>\n",
       "    <tr>\n",
       "      <th>2429</th>\n",
       "      <td>20231001</td>\n",
       "      <td>15:10:00</td>\n",
       "      <td>Comerica Park</td>\n",
       "      <td>DET</td>\n",
       "      <td>CLE</td>\n",
       "      <td>G07</td>\n",
       "      <td>23981.310547</td>\n",
       "    </tr>\n",
       "  </tbody>\n",
       "</table>\n",
       "<p>2430 rows × 7 columns</p>\n",
       "</div>\n",
       "      <button class=\"colab-df-convert\" onclick=\"convertToInteractive('df-a9694840-e60c-46de-b58c-d584c1d6238c')\"\n",
       "              title=\"Convert this dataframe to an interactive table.\"\n",
       "              style=\"display:none;\">\n",
       "        \n",
       "  <svg xmlns=\"http://www.w3.org/2000/svg\" height=\"24px\"viewBox=\"0 0 24 24\"\n",
       "       width=\"24px\">\n",
       "    <path d=\"M0 0h24v24H0V0z\" fill=\"none\"/>\n",
       "    <path d=\"M18.56 5.44l.94 2.06.94-2.06 2.06-.94-2.06-.94-.94-2.06-.94 2.06-2.06.94zm-11 1L8.5 8.5l.94-2.06 2.06-.94-2.06-.94L8.5 2.5l-.94 2.06-2.06.94zm10 10l.94 2.06.94-2.06 2.06-.94-2.06-.94-.94-2.06-.94 2.06-2.06.94z\"/><path d=\"M17.41 7.96l-1.37-1.37c-.4-.4-.92-.59-1.43-.59-.52 0-1.04.2-1.43.59L10.3 9.45l-7.72 7.72c-.78.78-.78 2.05 0 2.83L4 21.41c.39.39.9.59 1.41.59.51 0 1.02-.2 1.41-.59l7.78-7.78 2.81-2.81c.8-.78.8-2.07 0-2.86zM5.41 20L4 18.59l7.72-7.72 1.47 1.35L5.41 20z\"/>\n",
       "  </svg>\n",
       "      </button>\n",
       "      \n",
       "  <style>\n",
       "    .colab-df-container {\n",
       "      display:flex;\n",
       "      flex-wrap:wrap;\n",
       "      gap: 12px;\n",
       "    }\n",
       "\n",
       "    .colab-df-convert {\n",
       "      background-color: #E8F0FE;\n",
       "      border: none;\n",
       "      border-radius: 50%;\n",
       "      cursor: pointer;\n",
       "      display: none;\n",
       "      fill: #1967D2;\n",
       "      height: 32px;\n",
       "      padding: 0 0 0 0;\n",
       "      width: 32px;\n",
       "    }\n",
       "\n",
       "    .colab-df-convert:hover {\n",
       "      background-color: #E2EBFA;\n",
       "      box-shadow: 0px 1px 2px rgba(60, 64, 67, 0.3), 0px 1px 3px 1px rgba(60, 64, 67, 0.15);\n",
       "      fill: #174EA6;\n",
       "    }\n",
       "\n",
       "    [theme=dark] .colab-df-convert {\n",
       "      background-color: #3B4455;\n",
       "      fill: #D2E3FC;\n",
       "    }\n",
       "\n",
       "    [theme=dark] .colab-df-convert:hover {\n",
       "      background-color: #434B5C;\n",
       "      box-shadow: 0px 1px 3px 1px rgba(0, 0, 0, 0.15);\n",
       "      filter: drop-shadow(0px 1px 2px rgba(0, 0, 0, 0.3));\n",
       "      fill: #FFFFFF;\n",
       "    }\n",
       "  </style>\n",
       "\n",
       "      <script>\n",
       "        const buttonEl =\n",
       "          document.querySelector('#df-a9694840-e60c-46de-b58c-d584c1d6238c button.colab-df-convert');\n",
       "        buttonEl.style.display =\n",
       "          google.colab.kernel.accessAllowed ? 'block' : 'none';\n",
       "\n",
       "        async function convertToInteractive(key) {\n",
       "          const element = document.querySelector('#df-a9694840-e60c-46de-b58c-d584c1d6238c');\n",
       "          const dataTable =\n",
       "            await google.colab.kernel.invokeFunction('convertToInteractive',\n",
       "                                                     [key], {});\n",
       "          if (!dataTable) return;\n",
       "\n",
       "          const docLinkHtml = 'Like what you see? Visit the ' +\n",
       "            '<a target=\"_blank\" href=https://colab.research.google.com/notebooks/data_table.ipynb>data table notebook</a>'\n",
       "            + ' to learn more about interactive tables.';\n",
       "          element.innerHTML = '';\n",
       "          dataTable['output_type'] = 'display_data';\n",
       "          await google.colab.output.renderOutput(dataTable, element);\n",
       "          const docLink = document.createElement('div');\n",
       "          docLink.innerHTML = docLinkHtml;\n",
       "          element.appendChild(docLink);\n",
       "        }\n",
       "      </script>\n",
       "    </div>\n",
       "  </div>\n",
       "  "
      ],
      "text/plain": [
       "      game_date game_time                 stadium_name home_team away_team  \\\n",
       "0      20230330  13:05:00               Yankee Stadium       NYA       SFN   \n",
       "1      20230330  13:05:00               Nationals Park       WAS       ATL   \n",
       "2      20230330  13:10:00                   Petco Park       SDN       COL   \n",
       "3      20230330  13:20:00                Wrigley Field       CHN       MIL   \n",
       "4      20230330  14:10:00                  Fenway Park       BOS       BAL   \n",
       "...         ...       ...                          ...       ...       ...   \n",
       "2425   20231001  15:05:00  Oriole Park at Camden Yards       BAL       BOS   \n",
       "2426   20231001  15:05:00                     PNC Park       PIT       MIA   \n",
       "2427   20231001  15:07:00                Rogers Centre       TOR       TBA   \n",
       "2428   20231001  15:10:00                   Citi Field       NYN       PHI   \n",
       "2429   20231001  15:10:00                Comerica Park       DET       CLE   \n",
       "\n",
       "     minnemudac_teamid  predicted_attendance  \n",
       "0                  G07          52221.074219  \n",
       "1                  G07          30136.009766  \n",
       "2                  G07          45646.238281  \n",
       "3                  G07          40740.242188  \n",
       "4                  G07          37244.484375  \n",
       "...                ...                   ...  \n",
       "2425               G07          33817.375000  \n",
       "2426               G07          14694.962891  \n",
       "2427               G07          32803.917969  \n",
       "2428               G07          44951.597656  \n",
       "2429               G07          23981.310547  \n",
       "\n",
       "[2430 rows x 7 columns]"
      ]
     },
     "execution_count": 303,
     "metadata": {},
     "output_type": "execute_result"
    }
   ],
   "source": [
    "schedule"
   ]
  },
  {
   "cell_type": "code",
   "execution_count": null,
   "id": "ypBDy_SZhGyu",
   "metadata": {
    "id": "ypBDy_SZhGyu"
   },
   "outputs": [],
   "source": [
    "schedule.to_csv(\"/content/drive/Shareddrives/MinneMUDAC/Final Prediction/2023_MLBSchedule.csv\")"
   ]
  },
  {
   "cell_type": "code",
   "execution_count": null,
   "id": "PdxE98xPgrN2",
   "metadata": {
    "id": "PdxE98xPgrN2"
   },
   "outputs": [],
   "source": []
  },
  {
   "cell_type": "code",
   "execution_count": null,
   "id": "gzA3vhE7hIgy",
   "metadata": {
    "id": "gzA3vhE7hIgy"
   },
   "outputs": [],
   "source": []
  }
 ],
 "metadata": {
  "accelerator": "GPU",
  "colab": {
   "provenance": []
  },
  "gpuClass": "standard",
  "kernelspec": {
   "display_name": "Python 3 (ipykernel)",
   "language": "python",
   "name": "python3"
  },
  "language_info": {
   "codemirror_mode": {
    "name": "ipython",
    "version": 3
   },
   "file_extension": ".py",
   "mimetype": "text/x-python",
   "name": "python",
   "nbconvert_exporter": "python",
   "pygments_lexer": "ipython3",
   "version": "3.9.12"
  }
 },
 "nbformat": 4,
 "nbformat_minor": 5
}
